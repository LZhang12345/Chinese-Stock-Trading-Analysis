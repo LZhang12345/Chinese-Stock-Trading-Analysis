{
 "cells": [
  {
   "cell_type": "code",
   "execution_count": 299,
   "metadata": {},
   "outputs": [],
   "source": [
    "import tushare as ts\n",
    "import pandas as pd\n",
    "from datetime import datetime\n",
    "import numpy as np\n",
    "import matplotlib.pyplot as plt\n",
    "import math\n",
    "from sklearn.linear_model import LinearRegression\n",
    "from sklearn.metrics import r2_score\n",
    "import datetime\n",
    "import requests\n",
    "from bs4 import BeautifulSoup\n",
    "%matplotlib inline\n",
    "from bs4 import BeautifulSoup\n",
    "from selenium import webdriver\n",
    "from selenium.webdriver.common.by import By\n",
    "from selenium.webdriver.support.ui import WebDriverWait\n",
    "from selenium.webdriver.support import expected_conditions as EC\n",
    "import time"
   ]
  },
  {
   "cell_type": "markdown",
   "metadata": {},
   "source": [
    "# Here we're implementing strategy 2"
   ]
  },
  {
   "cell_type": "markdown",
   "metadata": {},
   "source": [
    "Similar to before, we still use the position for each fund published every season, then we uses the rank for each week. Here we start from 2020/04/11 until now <br>\n",
    "Notice here that we rank the funds every week (5 trading days), like: <br>\n",
    "2020/04/11 - 2020/04/15 <br>\n",
    "However, we trade all the stocks every Monday since we need the entire weekend to do the analysis <br>"
   ]
  },
  {
   "cell_type": "code",
   "execution_count": 410,
   "metadata": {},
   "outputs": [],
   "source": [
    "# First we need to scripe from 天天基金网\n",
    "# We starting from datetime now\n",
    "day = 7\n",
    "start = datetime.date(2021, 3 , 15)\n",
    "end = datetime.date(2021, 4 , 9)\n",
    "datetime.timedelta(days = day)\n",
    "# we create a datetime array for starting and ending date\n",
    "startList = np.array([str(start + datetime.timedelta(days = 14*x)).replace('-','') for x in range(5)]) # so far, we have 9 weeks\n",
    "endList = np.array([str(end + datetime.timedelta(days = 14*x)).replace('-','') for x in range(5)])\n",
    "\n",
    "start = datetime.date(2021, 4 , 12)\n",
    "end = datetime.date(2021, 4 , 23)\n",
    "start_List = np.array([str(start + datetime.timedelta(days = 14*x)).replace('-','') for x in range(5)]) # so far, we have 9 weeks\n",
    "end_List = np.array([str(end + datetime.timedelta(days = 14*x)).replace('-','') for x in range(5)])\n",
    "\n",
    "# 'ddesc' for descending; 'dasc' for ascending\n",
    "url = 'http://fund.eastmoney.com/data/fundranking.html#tall;c0;r;sqjzf;pn50;ddesc;qsd'+\\\n",
    "      '20210412'+\\\n",
    "      ';qed'+\\\n",
    "      '20210416'+\\\n",
    "      ';qdii;zq;gg;gzbd;gzfs;bbzt;sfbb'\n",
    "\n",
    "page = requests.get(url)\n",
    "soup1 = BeautifulSoup(page.content, 'html.parser')  \n",
    "\n",
    "ts.set_token('bb041845ae29bf5ae6414c14685c2da18f03f955c1d39d9f4ab6b947')\n",
    "pro = ts.pro_api()"
   ]
  },
  {
   "cell_type": "code",
   "execution_count": 411,
   "metadata": {},
   "outputs": [
    {
     "name": "stdout",
     "output_type": "stream",
     "text": [
      "['20210315' '20210329' '20210412' '20210426' '20210510'] ['20210409' '20210423' '20210507' '20210521' '20210604']\n",
      "['20210412' '20210426' '20210510' '20210524' '20210607'] ['20210423' '20210507' '20210521' '20210604' '20210618']\n"
     ]
    }
   ],
   "source": [
    "print(startList, endList)\n",
    "print(start_List, end_List)"
   ]
  },
  {
   "cell_type": "code",
   "execution_count": 412,
   "metadata": {},
   "outputs": [],
   "source": [
    "def get_funds_ranking(start_time, end_time):\n",
    "    \n",
    "    # 'ddesc' for descending; 'dasc' for ascending\n",
    "    url = 'http://fund.eastmoney.com/data/fundranking.html#thh;c0;r;sqjzf;pn50;ddesc;qsd'+\\\n",
    "          start_time+\\\n",
    "          ';qed'+\\\n",
    "          end_time+\\\n",
    "          ';qdii;zq;gg;gzbd;gzfs;bbzt;sfbb'\n",
    "\n",
    "    driver = webdriver.Chrome(executable_path=\"/Users/zhangluyang/Desktop/QuantProject/chromedriver\")\n",
    "    driver.maximize_window()\n",
    "    wait = WebDriverWait(driver, 10)\n",
    "    driver.get(url)\n",
    "\n",
    "    # wait for the complete page load\n",
    "    wait.until(EC.invisibility_of_element_located((By.ID, \"preload\")))\n",
    "    # parse the HTML\n",
    "    soup = BeautifulSoup(driver.page_source, \"html.parser\")\n",
    "    driver.close()\n",
    "\n",
    "    # set the index to be 4\n",
    "    table = soup.find_all('table')[4]\n",
    "    rows = table.find_all(lambda tag: tag.name=='tr')\n",
    "    \n",
    "    \n",
    "    # getting the dataframe\n",
    "    title = rows[0].findAll(text=True)\n",
    "    title = list(filter(('\\n').__ne__, title))\n",
    "\n",
    "    # we need to remove 1st, 3rd, -2, -1 position\n",
    "    # also, we need to get the url\n",
    "    title = [title[1]] + title[3:-2]\n",
    "    title = title + ['URL_General', 'URL_Holdings']\n",
    "    array = np.array([title])\n",
    "\n",
    "    for i in range(1,len(rows)):\n",
    "        # append the funds' url\n",
    "        info = np.array(rows[i].findAll(text=True))\n",
    "        #.append(rows[i].find_all('a', href=True)[0]['href'])\n",
    "        general_url = str(rows[i].find_all('a', href=True)[0]['href'])\n",
    "        info = np.append(info, general_url)\n",
    "        # append the funds' holdings' url\n",
    "        info = np.append(info,'http://fundf10.eastmoney.com/ccmx_'+info[1]+'.html')\n",
    "        array = np.concatenate((array, [info]))\n",
    "\n",
    "    ranking_funds = pd.DataFrame(data=array[1:,1:],    \n",
    "                           index=array[1:,0],    \n",
    "                           columns=array[0,1:]) \n",
    "    \n",
    "    return ranking_funds\n",
    "\n",
    "\n",
    "\n",
    "def get_holdings(url):\n",
    "    \n",
    "    driver = webdriver.Chrome(executable_path=\"/Users/zhangluyang/Desktop/QuantProject/chromedriver\")\n",
    "    driver.maximize_window()\n",
    "    wait = WebDriverWait(driver, 10)\n",
    "    driver.get(url)\n",
    "\n",
    "    # wait for the complete page load\n",
    "    wait.until(EC.invisibility_of_element_located((By.ID, \"preload\")))\n",
    "\n",
    "    # parse the HTML\n",
    "    soup = BeautifulSoup(driver.page_source, \"html.parser\")\n",
    "    driver.close()\n",
    "\n",
    "    table = soup.find_all(\"div\", {\"class\": \"boxitem w790\"})\n",
    "    rows = table[0].find_all(lambda tag: tag.name=='tr')\n",
    "    \n",
    "    if rows == []:\n",
    "        return pd.DataFrame()\n",
    "    \n",
    "    #title = rows[0].findAll(text=True)\n",
    "    title = ['股票代码', '股票名称']\n",
    "    array = np.array([title])\n",
    "\n",
    "    for i in range(1,len(rows)):\n",
    "        # here the string lenght should be bigger than default 8\n",
    "        info = np.array(rows[i].findAll(text=True), dtype=np.dtype('U100'))\n",
    "        if info[1][0] == '0' or info[1][0] == '3':\n",
    "            info[1] = str(info[1]) + \".SZ\"\n",
    "        else:\n",
    "            info[1] = str(info[1]) + \".SH\"\n",
    "        info_new = [info[1]] + [info[2]]\n",
    "        array = np.concatenate((array, [info_new]))\n",
    "\n",
    "    ranking_holdings = pd.DataFrame(data=array[1:,1:],    \n",
    "                               index=array[1:,0],    \n",
    "                               columns=array[0,1:])\n",
    "    \n",
    "    return ranking_holdings"
   ]
  },
  {
   "cell_type": "markdown",
   "metadata": {},
   "source": [
    "# The best performing strategy: 4 weeks predicts 2 weeks"
   ]
  },
  {
   "cell_type": "code",
   "execution_count": 415,
   "metadata": {},
   "outputs": [
    {
     "name": "stdout",
     "output_type": "stream",
     "text": [
      "[1.         1.00903026 1.01257331 1.01204536 0.99824578 1.0308742\n",
      " 1.05303547 1.06769316 1.05831904 1.10439526]\n",
      "[1.10439526 1.14378543 1.17287354 1.17906429 1.18194064 1.14850744\n",
      " 1.10559448]\n",
      "[1.10559448 1.07723302 1.0753222  1.04922609 1.08151086 1.14327128\n",
      " 1.14159073 1.17542541 1.16956016 1.17566265]\n",
      "[1.17566265 1.21581419 1.1954693  1.20566948 1.2241965  1.2605009\n",
      " 1.26307092 1.25710491 1.25480049 1.28335961]\n"
     ]
    },
    {
     "data": {
      "image/png": "[encoded data removed]",
      "text/plain": [
       "<Figure size 432x288 with 1 Axes>"
      ]
     },
     "metadata": {
      "needs_background": "light"
     },
     "output_type": "display_data"
    }
   ],
   "source": [
    "portfolio = [1]\n",
    "for i in range(len(endList)-1):\n",
    "    starting_date1 = startList[i]\n",
    "    ending_date1 = endList[i]\n",
    "    \n",
    "    df_total = pd.DataFrame()\n",
    "    # containing the best formoing 50 funds\n",
    "    dfFunds = get_funds_ranking(starting_date1, ending_date1)\n",
    "    num_funds = 35\n",
    "    \n",
    "    # we can set the select how many funds here\n",
    "    for index, row in dfFunds.iterrows():\n",
    "        if int(index) < num_funds:\n",
    "            url = row[-1]\n",
    "            tempHoldings = get_holdings(url)\n",
    "            time.sleep(1)\n",
    "            df_total = pd.concat([df_total, tempHoldings], axis=0)\n",
    "\n",
    "    df_total.reset_index(inplace=True)\n",
    "    df_total.columns = ['股票代码', '股票名称']\n",
    "    stock_list = df_total['股票代码'].value_counts().to_frame()\n",
    "    # take the top 10 stocks\n",
    "    stock_list = stock_list.head(10)\n",
    "    stock_list['weight'] = stock_list['股票代码']/sum(stock_list['股票代码'])\n",
    "    stock_list.reset_index(inplace=True)\n",
    "    stock_list.columns = ['Tick', 'Number', 'Weight']\n",
    "\n",
    "    \n",
    "    starting_date2 = start_List[i]\n",
    "    ending_date2 = end_List[i]\n",
    "    tickStart = stock_list['Tick']\n",
    "    tick = tickStart[0]\n",
    "    num = len(ts.pro_bar(ts_code=tick, adj='qfq', start_date=starting_date2, end_date=ending_date2))\n",
    "    temp = np.array([0 for x in range(num)])\n",
    "    endingP = portfolio[-1]\n",
    "    for i in range(len(stock_list)):\n",
    "        tick = tickStart[i]\n",
    "        df_info = ts.pro_bar(ts_code=tick, adj='qfq', start_date=starting_date2, end_date=ending_date2)\n",
    "        df_info = df_info[::-1].reset_index()\n",
    "        price = df_info['close']\n",
    "        share = endingP*stock_list.loc[i,'Weight']/price[0]\n",
    "        value = np.array(price*share)\n",
    "        len1 = len(value)\n",
    "        while len1 < num:\n",
    "            value = np.append(value, np.mean(value))\n",
    "            len1 += 1\n",
    "        temp = temp + value\n",
    "    endingP = temp[-1]\n",
    "    portfolio.extend(temp)\n",
    "    print(temp)\n",
    "    time.sleep(20)\n",
    "\n",
    "plt.plot([x for x in range(len(portfolio))], portfolio)\n",
    "plt.title('Strategy 1')\n",
    "plt.show()"
   ]
  },
  {
   "cell_type": "code",
   "execution_count": 416,
   "metadata": {},
   "outputs": [
    {
     "data": {
      "image/png": "[encoded data removed]",
      "text/plain": [
       "<Figure size 432x288 with 1 Axes>"
      ]
     },
     "metadata": {
      "needs_background": "light"
     },
     "output_type": "display_data"
    }
   ],
   "source": [
    "plt.plot([x for x in range(len(portfolio))], portfolio)\n",
    "plt.title('Strategy 1')\n",
    "plt.show()"
   ]
  },
  {
   "cell_type": "code",
   "execution_count": 418,
   "metadata": {},
   "outputs": [
    {
     "name": "stdout",
     "output_type": "stream",
     "text": [
      "        Tick  Number    Weight\n",
      "0  300750.SZ      15  0.180723\n",
      "1  603501.SH      12  0.144578\n",
      "2  300014.SZ       8  0.096386\n",
      "3  300782.SZ       8  0.096386\n",
      "4  300408.SZ       7  0.084337\n",
      "5  601012.SH       7  0.084337\n",
      "6  603986.SH       7  0.084337\n",
      "7  000725.SZ       7  0.084337\n",
      "8  600519.SH       7  0.084337\n",
      "9  600460.SH       5  0.060241\n"
     ]
    }
   ],
   "source": [
    "# generating the stocks for the next week\n",
    "\n",
    "starting_date1 = '20210531'\n",
    "ending_date1 = '20210625'\n",
    "portfolio = [1]\n",
    "\n",
    "df_total = pd.DataFrame()\n",
    "# containing the best formoing 50 funds\n",
    "dfFunds = get_funds_ranking(starting_date1, ending_date1)\n",
    "num_funds = 35\n",
    "    \n",
    "# we can set the select how many funds here\n",
    "for index, row in dfFunds.iterrows():\n",
    "    if int(index) < num_funds:\n",
    "        url = row[-1]\n",
    "        tempHoldings = get_holdings(url)\n",
    "        time.sleep(1)\n",
    "        df_total = pd.concat([df_total, tempHoldings], axis=0)\n",
    "\n",
    "df_total.reset_index(inplace=True)\n",
    "df_total.columns = ['股票代码', '股票名称']\n",
    "stock_list = df_total['股票代码'].value_counts().to_frame()\n",
    "# take the top 10 stocks\n",
    "stock_list = stock_list.head(10)\n",
    "stock_list['weight'] = stock_list['股票代码']/sum(stock_list['股票代码'])\n",
    "stock_list.reset_index(inplace=True)\n",
    "stock_list.columns = ['Tick', 'Number', 'Weight']\n",
    "print(stock_list)"
   ]
  },
  {
   "cell_type": "markdown",
   "metadata": {},
   "source": [
    "# Period = 14 days"
   ]
  },
  {
   "cell_type": "code",
   "execution_count": 377,
   "metadata": {},
   "outputs": [
    {
     "data": {
      "image/png": "[encoded data removed]",
      "text/plain": [
       "<Figure size 432x288 with 1 Axes>"
      ]
     },
     "metadata": {
      "needs_background": "light"
     },
     "output_type": "display_data"
    }
   ],
   "source": [
    "portfolio14 = portfolio\n",
    "plt.plot([x for x in range(len(portfolio14))], portfolio14)\n",
    "plt.title('Strategy 1: 2 weeks period, 20210419--20210611')\n",
    "plt.show()"
   ]
  },
  {
   "cell_type": "code",
   "execution_count": 382,
   "metadata": {},
   "outputs": [
    {
     "name": "stdout",
     "output_type": "stream",
     "text": [
      "[1.         1.0105999  1.00010961 0.97348011 0.97478719 0.98032745\n",
      " 0.98291751 0.99080715 1.01802309 1.01964945 1.01615736 1.02156636\n",
      " 1.05156239 1.0511676  1.06211853 1.07249011 1.06632943 1.06026127\n",
      " 1.06612646 1.0536953  1.06045551 1.05555046 1.06473028 1.03561543\n",
      " 1.04631955 1.06088395 1.05200675 1.04303139 1.03976    1.02288241\n",
      " 1.0247199  1.03528408 1.03363979 1.0340955  1.038276   1.06227488\n",
      " 1.05936997 1.06477038 1.07348218 1.09967753 1.0971609  1.07903182\n",
      " 1.08195089 1.08232971 1.07707564]\n"
     ]
    }
   ],
   "source": [
    "start = datetime.date(2021, 1 , 1)\n",
    "end = datetime.date(2021, 3 , 31)\n",
    "starting_date1 = '20210107'\n",
    "ending_date1 = '20210331'\n",
    "portfolio = [1]\n",
    "\n",
    "df_total = pd.DataFrame()\n",
    "# containing the best formoing 50 funds\n",
    "dfFunds = get_funds_ranking(starting_date1, ending_date1)\n",
    "num_funds = 25\n",
    "    \n",
    "# we can set the select how many funds here\n",
    "for index, row in dfFunds.iterrows():\n",
    "    if int(index) < num_funds:\n",
    "        url = row[-1]\n",
    "        tempHoldings = get_holdings(url)\n",
    "        time.sleep(1)\n",
    "        df_total = pd.concat([df_total, tempHoldings], axis=0)\n",
    "\n",
    "df_total.reset_index(inplace=True)\n",
    "df_total.columns = ['股票代码', '股票名称']\n",
    "stock_list = df_total['股票代码'].value_counts().to_frame()\n",
    "# take the top 10 stocks\n",
    "stock_list = stock_list.head(10)\n",
    "stock_list['weight'] = stock_list['股票代码']/sum(stock_list['股票代码'])\n",
    "stock_list.reset_index(inplace=True)\n",
    "stock_list.columns = ['Tick', 'Number', 'Weight']\n",
    "\n",
    "starting_date2 = '20210407'\n",
    "ending_date2 = '20210611'\n",
    "tickStart = stock_list['Tick']\n",
    "tick = tickStart[0]\n",
    "num = len(ts.pro_bar(ts_code=tick, adj='qfq', start_date=starting_date2, end_date=ending_date2))\n",
    "temp = np.array([0 for x in range(num)])\n",
    "endingP = portfolio[-1]\n",
    "for i in range(len(stock_list)):\n",
    "    tick = tickStart[i]\n",
    "    df_info = ts.pro_bar(ts_code=tick, adj='qfq', start_date=starting_date2, end_date=ending_date2)\n",
    "    df_info = df_info[::-1].reset_index()\n",
    "    price = df_info['close']\n",
    "    share = endingP*stock_list.loc[i,'Weight']/price[0]\n",
    "    value = np.array(price*share)\n",
    "    len1 = len(value)\n",
    "    while len1 < num:\n",
    "        value = np.append(value, np.mean(value))\n",
    "        len1 += 1\n",
    "    temp = temp + value\n",
    "endingP = temp[-1]\n",
    "portfolio.extend(temp)\n",
    "print(temp)"
   ]
  },
  {
   "cell_type": "code",
   "execution_count": 384,
   "metadata": {},
   "outputs": [
    {
     "data": {
      "image/png": "[encoded data removed]",
      "text/plain": [
       "<Figure size 432x288 with 1 Axes>"
      ]
     },
     "metadata": {
      "needs_background": "light"
     },
     "output_type": "display_data"
    }
   ],
   "source": [
    "portfolio93 = portfolio\n",
    "plt.plot([x for x in range(len(portfolio93))], portfolio93)\n",
    "plt.title('Strategy 1: 2 weeks period, 20210407--20210611')\n",
    "plt.show()"
   ]
  },
  {
   "cell_type": "markdown",
   "metadata": {},
   "source": [
    "# Period = 30 days"
   ]
  },
  {
   "cell_type": "code",
   "execution_count": 397,
   "metadata": {},
   "outputs": [
    {
     "name": "stdout",
     "output_type": "stream",
     "text": [
      "[1.         0.96029452 0.97868366 1.00259602 1.03190256 1.0285641\n",
      " 1.03632494 1.07473408 1.06400163 1.05581584 1.07537324 1.07850464\n",
      " 1.07468955 1.10355558 1.09005917 1.09842753 1.06541871 1.08913022\n",
      " 1.1188851  1.10478485 1.0940574  1.1147693  1.1090655  1.09526915\n",
      " 1.09918205 1.12581356 1.11979136 1.11376456 1.05724323 1.08009946\n",
      " 1.10528581]\n"
     ]
    }
   ],
   "source": [
    "starting_date1 = '20210407'\n",
    "ending_date1 = '20210503'\n",
    "portfolio = [1]\n",
    "\n",
    "df_total = pd.DataFrame()\n",
    "# containing the best formoing 50 funds\n",
    "dfFunds = get_funds_ranking(starting_date1, ending_date1)\n",
    "num_funds = 30\n",
    "    \n",
    "# we can set the select how many funds here\n",
    "for index, row in dfFunds.iterrows():\n",
    "    if int(index) < num_funds:\n",
    "        url = row[-1]\n",
    "        tempHoldings = get_holdings(url)\n",
    "        time.sleep(1)\n",
    "        df_total = pd.concat([df_total, tempHoldings], axis=0)\n",
    "\n",
    "df_total.reset_index(inplace=True)\n",
    "df_total.columns = ['股票代码', '股票名称']\n",
    "stock_list = df_total['股票代码'].value_counts().to_frame()\n",
    "# take the top 10 stocks\n",
    "stock_list = stock_list.head(10)\n",
    "stock_list['weight'] = stock_list['股票代码']/sum(stock_list['股票代码'])\n",
    "stock_list.reset_index(inplace=True)\n",
    "stock_list.columns = ['Tick', 'Number', 'Weight']\n",
    "\n",
    "starting_date2 = '20210503'\n",
    "ending_date2 = '20210620'\n",
    "tickStart = stock_list['Tick']\n",
    "tick = tickStart[0]\n",
    "num = len(ts.pro_bar(ts_code=tick, adj='qfq', start_date=starting_date2, end_date=ending_date2))\n",
    "temp = np.array([0 for x in range(num)])\n",
    "endingP = portfolio[-1]\n",
    "for i in range(len(stock_list)):\n",
    "    tick = tickStart[i]\n",
    "    df_info = ts.pro_bar(ts_code=tick, adj='qfq', start_date=starting_date2, end_date=ending_date2)\n",
    "    df_info = df_info[::-1].reset_index()\n",
    "    price = df_info['close']\n",
    "    share = endingP*stock_list.loc[i,'Weight']/price[0]\n",
    "    value = np.array(price*share)\n",
    "    len1 = len(value)\n",
    "    while len1 < num:\n",
    "        value = np.append(value, np.mean(value))\n",
    "        len1 += 1\n",
    "    temp = temp + value\n",
    "endingP = temp[-1]\n",
    "portfolio.extend(temp)\n",
    "print(temp)"
   ]
  },
  {
   "cell_type": "markdown",
   "metadata": {},
   "source": [
    "# Period = 14 days ranging from 20210607 to 20210618"
   ]
  },
  {
   "cell_type": "code",
   "execution_count": 403,
   "metadata": {},
   "outputs": [
    {
     "name": "stdout",
     "output_type": "stream",
     "text": [
      "        Tick  Number    Weight\n",
      "0  300750.SZ      21  0.161538\n",
      "1  300014.SZ      18  0.138462\n",
      "2  002709.SZ      17  0.130769\n",
      "3  002460.SZ      14  0.107692\n",
      "4  603799.SH      11  0.084615\n",
      "5  300073.SZ      10  0.076923\n",
      "6  002594.SZ      10  0.076923\n",
      "7  300037.SZ      10  0.076923\n",
      "8  002812.SZ      10  0.076923\n",
      "9  601012.SH       9  0.069231\n",
      "[1.         0.98555537 0.98977091 1.04139726 1.06417657 1.05535704\n",
      " 0.98404866 1.01294177 1.05724236 1.0532879  1.05594471 1.08409877\n",
      " 1.0728423 ]\n"
     ]
    },
    {
     "data": {
      "image/png": "[encoded data removed]",
      "text/plain": [
       "<Figure size 432x288 with 1 Axes>"
      ]
     },
     "metadata": {
      "needs_background": "light"
     },
     "output_type": "display_data"
    }
   ],
   "source": [
    "starting_date1 = '20210510'\n",
    "ending_date1 = '20210604'\n",
    "portfolio = [1]\n",
    "\n",
    "df_total = pd.DataFrame()\n",
    "# containing the best formoing 50 funds\n",
    "dfFunds = get_funds_ranking(starting_date1, ending_date1)\n",
    "num_funds = 45\n",
    "    \n",
    "# we can set the select how many funds here\n",
    "for index, row in dfFunds.iterrows():\n",
    "    if int(index) < num_funds:\n",
    "        url = row[-1]\n",
    "        tempHoldings = get_holdings(url)\n",
    "        time.sleep(1)\n",
    "        df_total = pd.concat([df_total, tempHoldings], axis=0)\n",
    "\n",
    "df_total.reset_index(inplace=True)\n",
    "df_total.columns = ['股票代码', '股票名称']\n",
    "stock_list = df_total['股票代码'].value_counts().to_frame()\n",
    "# take the top 10 stocks\n",
    "stock_list = stock_list.head(10)\n",
    "stock_list['weight'] = stock_list['股票代码']/sum(stock_list['股票代码'])\n",
    "stock_list.reset_index(inplace=True)\n",
    "stock_list.columns = ['Tick', 'Number', 'Weight']\n",
    "print(stock_list)\n",
    "\n",
    "starting_date2 = '20210607'\n",
    "ending_date2 = '20210624'\n",
    "tickStart = stock_list['Tick']\n",
    "tick = tickStart[0]\n",
    "num = len(ts.pro_bar(ts_code=tick, adj='qfq', start_date=starting_date2, end_date=ending_date2))\n",
    "temp = np.array([0 for x in range(num)])\n",
    "endingP = portfolio[-1]\n",
    "for i in range(len(stock_list)):\n",
    "    tick = tickStart[i]\n",
    "    df_info = ts.pro_bar(ts_code=tick, adj='qfq', start_date=starting_date2, end_date=ending_date2)\n",
    "    df_info = df_info[::-1].reset_index()\n",
    "    price = df_info['close']\n",
    "    share = endingP*stock_list.loc[i,'Weight']/price[0]\n",
    "    value = np.array(price*share)\n",
    "    len1 = len(value)\n",
    "    while len1 < num:\n",
    "        value = np.append(value, np.mean(value))\n",
    "        len1 += 1\n",
    "    temp = temp + value\n",
    "endingP = temp[-1]\n",
    "portfolio.extend(temp)\n",
    "print(temp)\n",
    "\n",
    "plt.plot([x for x in range(len(temp))], temp)\n",
    "plt.title('Strategy 1: 2 weeks period, 20210407--20210611')\n",
    "plt.show()"
   ]
  },
  {
   "cell_type": "markdown",
   "metadata": {},
   "source": [
    "# Period = 30 days ranging from 20210524 to 20210618"
   ]
  },
  {
   "cell_type": "code",
   "execution_count": 401,
   "metadata": {},
   "outputs": [
    {
     "name": "stdout",
     "output_type": "stream",
     "text": [
      "        Tick  Number    Weight\n",
      "0  300750.SZ      10  0.144928\n",
      "1  603986.SH       8  0.115942\n",
      "2  603501.SH       7  0.101449\n",
      "3  300661.SZ       7  0.101449\n",
      "4  688012.SH       7  0.101449\n",
      "5  300014.SZ       7  0.101449\n",
      "6  002415.SZ       7  0.101449\n",
      "7  688536.SH       6  0.086957\n",
      "8  002709.SZ       5  0.072464\n",
      "9  002371.SZ       5  0.072464\n",
      "[1.         0.99026032 0.9901523  1.02797218 1.00925095]\n"
     ]
    }
   ],
   "source": [
    "starting_date1 = '20210524'\n",
    "ending_date1 = '20210618'\n",
    "portfolio = [1]\n",
    "\n",
    "df_total = pd.DataFrame()\n",
    "# containing the best formoing 50 funds\n",
    "dfFunds = get_funds_ranking(starting_date1, ending_date1)\n",
    "num_funds = 30\n",
    "    \n",
    "# we can set the select how many funds here\n",
    "for index, row in dfFunds.iterrows():\n",
    "    if int(index) < num_funds:\n",
    "        url = row[-1]\n",
    "        tempHoldings = get_holdings(url)\n",
    "        time.sleep(1)\n",
    "        df_total = pd.concat([df_total, tempHoldings], axis=0)\n",
    "\n",
    "df_total.reset_index(inplace=True)\n",
    "df_total.columns = ['股票代码', '股票名称']\n",
    "stock_list = df_total['股票代码'].value_counts().to_frame()\n",
    "# take the top 10 stocks\n",
    "stock_list = stock_list.head(10)\n",
    "stock_list['weight'] = stock_list['股票代码']/sum(stock_list['股票代码'])\n",
    "stock_list.reset_index(inplace=True)\n",
    "stock_list.columns = ['Tick', 'Number', 'Weight']\n",
    "print(stock_list)\n",
    "\n",
    "starting_date2 = '20210618'\n",
    "ending_date2 = '20210624'\n",
    "tickStart = stock_list['Tick']\n",
    "tick = tickStart[0]\n",
    "num = len(ts.pro_bar(ts_code=tick, adj='qfq', start_date=starting_date2, end_date=ending_date2))\n",
    "temp = np.array([0 for x in range(num)])\n",
    "endingP = portfolio[-1]\n",
    "for i in range(len(stock_list)):\n",
    "    tick = tickStart[i]\n",
    "    df_info = ts.pro_bar(ts_code=tick, adj='qfq', start_date=starting_date2, end_date=ending_date2)\n",
    "    df_info = df_info[::-1].reset_index()\n",
    "    price = df_info['close']\n",
    "    share = endingP*stock_list.loc[i,'Weight']/price[0]\n",
    "    value = np.array(price*share)\n",
    "    len1 = len(value)\n",
    "    while len1 < num:\n",
    "        value = np.append(value, np.mean(value))\n",
    "        len1 += 1\n",
    "    temp = temp + value\n",
    "endingP = temp[-1]\n",
    "portfolio.extend(temp)\n",
    "print(temp)"
   ]
  },
  {
   "cell_type": "markdown",
   "metadata": {},
   "source": [
    "# Period = 90 days ranging from 20210101 to 20210331"
   ]
  },
  {
   "cell_type": "code",
   "execution_count": null,
   "metadata": {},
   "outputs": [],
   "source": [
    "starting_date1 = '20210101'\n",
    "ending_date1 = '20210331'\n",
    "portfolio = [1]\n",
    "\n",
    "df_total = pd.DataFrame()\n",
    "# containing the best formoing 50 funds\n",
    "dfFunds = get_funds_ranking(starting_date1, ending_date1)\n",
    "num_funds = 30\n",
    "    \n",
    "# we can set the select how many funds here\n",
    "for index, row in dfFunds.iterrows():\n",
    "    if int(index) < num_funds:\n",
    "        url = row[-1]\n",
    "        tempHoldings = get_holdings(url)\n",
    "        time.sleep(1)\n",
    "        df_total = pd.concat([df_total, tempHoldings], axis=0)\n",
    "\n",
    "df_total.reset_index(inplace=True)\n",
    "df_total.columns = ['股票代码', '股票名称']\n",
    "stock_list = df_total['股票代码'].value_counts().to_frame()\n",
    "# take the top 10 stocks\n",
    "stock_list = stock_list.head(10)\n",
    "stock_list['weight'] = stock_list['股票代码']/sum(stock_list['股票代码'])\n",
    "stock_list.reset_index(inplace=True)\n",
    "stock_list.columns = ['Tick', 'Number', 'Weight']\n",
    "print(stock_list)\n",
    "\n",
    "starting_date2 = '20210618'\n",
    "ending_date2 = '20210624'\n",
    "tickStart = stock_list['Tick']\n",
    "tick = tickStart[0]\n",
    "num = len(ts.pro_bar(ts_code=tick, adj='qfq', start_date=starting_date2, end_date=ending_date2))\n",
    "temp = np.array([0 for x in range(num)])\n",
    "endingP = portfolio[-1]\n",
    "for i in range(len(stock_list)):\n",
    "    tick = tickStart[i]\n",
    "    df_info = ts.pro_bar(ts_code=tick, adj='qfq', start_date=starting_date2, end_date=ending_date2)\n",
    "    df_info = df_info[::-1].reset_index()\n",
    "    price = df_info['close']\n",
    "    share = endingP*stock_list.loc[i,'Weight']/price[0]\n",
    "    value = np.array(price*share)\n",
    "    len1 = len(value)\n",
    "    while len1 < num:\n",
    "        value = np.append(value, np.mean(value))\n",
    "        len1 += 1\n",
    "    temp = temp + value\n",
    "endingP = temp[-1]\n",
    "portfolio.extend(temp)\n",
    "print(temp)"
   ]
  },
  {
   "cell_type": "markdown",
   "metadata": {},
   "source": [
    "Then the next step is to scrap the next page with the same url"
   ]
  },
  {
   "cell_type": "code",
   "execution_count": 276,
   "metadata": {},
   "outputs": [
    {
     "name": "stdout",
     "output_type": "stream",
     "text": [
      "[1.         1.00855599 1.05465957 1.05311466 1.04705956 1.11546837\n",
      " 1.11107725 1.10979951 1.11510646 1.13268843 1.11692104 1.11749027\n",
      " 1.14301927 1.14347015 1.16908171 1.15773127 1.1170608  1.12955281\n",
      " 1.11080639 1.11322926 1.09150536 1.12347531 1.17780603 1.18001955\n",
      " 1.22085634 1.22426741 1.22881103 1.24299343 1.25977598 1.24512294\n",
      " 1.25318726 1.31052632 1.38215795 1.36930332 1.35906834 1.35176124\n",
      " 1.38838565]\n"
     ]
    }
   ],
   "source": [
    "stock_list = df_total['股票代码'].value_counts().to_frame()\n",
    "stock_list['weight'] = stock_list['股票代码']/sum(stock_list['股票代码'])\n",
    "stock_list.reset_index(inplace=True)\n",
    "stock_list.columns = ['Tick', 'Number', 'Weight']\n",
    "\n",
    "portfolio = []\n",
    "tickStart = stock_list['Tick']\n",
    "tick = tickStart[0]\n",
    "num = len(ts.pro_bar(ts_code=tick, adj='qfq', start_date='20210412', end_date='20210604'))\n",
    "temp = np.array([0 for x in range(num)])\n",
    "for i in range(len(stock_list)):\n",
    "    tick = tickStart[i]\n",
    "    df_info = ts.pro_bar(ts_code=tick, adj='qfq', start_date='20210412', end_date='20210604')\n",
    "    df_info = df_info[::-1].reset_index()\n",
    "    price = df_info['close']\n",
    "    share = stock_list.loc[i,'Weight']/price[0]\n",
    "    value = np.array(price*share)\n",
    "    len1 = len(value)\n",
    "    while len1 < num:\n",
    "        value = np.append(value, np.mean(value))\n",
    "        len1 += 1\n",
    "    temp = temp + value\n",
    "endingP = temp[-1]\n",
    "portfolio.extend(temp)\n",
    "print(temp)"
   ]
  },
  {
   "cell_type": "code",
   "execution_count": 277,
   "metadata": {},
   "outputs": [
    {
     "data": {
      "image/png": "[encoded data removed]",
      "text/plain": [
       "<Figure size 432x288 with 1 Axes>"
      ]
     },
     "metadata": {
      "needs_background": "light"
     },
     "output_type": "display_data"
    }
   ],
   "source": [
    "plt.plot([x for x in range(len(portfolio))], portfolio)\n",
    "plt.show()"
   ]
  },
  {
   "cell_type": "code",
   "execution_count": null,
   "metadata": {},
   "outputs": [],
   "source": []
  }
 ],
 "metadata": {
  "kernelspec": {
   "display_name": "Python 3",
   "language": "python",
   "name": "python3"
  },
  "language_info": {
   "codemirror_mode": {
    "name": "ipython",
    "version": 3
   },
   "file_extension": ".py",
   "mimetype": "text/x-python",
   "name": "python",
   "nbconvert_exporter": "python",
   "pygments_lexer": "ipython3",
   "version": "3.7.4"
  }
 },
 "nbformat": 4,
 "nbformat_minor": 2
}
